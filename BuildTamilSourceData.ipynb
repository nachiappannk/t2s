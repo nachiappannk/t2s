{
  "nbformat": 4,
  "nbformat_minor": 0,
  "metadata": {
    "colab": {
      "name": "BuildTamilSourceData.ipynb",
      "provenance": [],
      "collapsed_sections": [],
      "authorship_tag": "ABX9TyM5kNa1djlkwQmEsj1a+rKv",
      "include_colab_link": true
    },
    "kernelspec": {
      "name": "python3",
      "display_name": "Python 3"
    }
  },
  "cells": [
    {
      "cell_type": "markdown",
      "metadata": {
        "id": "view-in-github",
        "colab_type": "text"
      },
      "source": [
        "<a href=\"https://colab.research.google.com/github/nachiappannk/t2s/blob/master/BuildTamilSourceData.ipynb\" target=\"_parent\"><img src=\"https://colab.research.google.com/assets/colab-badge.svg\" alt=\"Open In Colab\"/></a>"
      ]
    },
    {
      "cell_type": "code",
      "metadata": {
        "id": "y6FNSw48eiEq",
        "colab_type": "code",
        "colab": {}
      },
      "source": [
        "from google.colab import drive\n",
        "drive.mount('/content/drive')"
      ],
      "execution_count": 0,
      "outputs": []
    },
    {
      "cell_type": "code",
      "metadata": {
        "id": "w6coD3vSeGlv",
        "colab_type": "code",
        "colab": {}
      },
      "source": [
        "%cd /content/drive/My\\ Drive/\n",
        "!mkdir TamilDataSetSource\n",
        "%cd /content/drive/My\\ Drive/TamilDataSetSource"
      ],
      "execution_count": 0,
      "outputs": []
    },
    {
      "cell_type": "code",
      "metadata": {
        "id": "qsDt5PstfUpR",
        "colab_type": "code",
        "colab": {}
      },
      "source": [
        "!wget http://www.openslr.org/resources/65/ta_in_male.zip"
      ],
      "execution_count": 0,
      "outputs": []
    },
    {
      "cell_type": "code",
      "metadata": {
        "id": "MmSC1XV1ghpZ",
        "colab_type": "code",
        "colab": {}
      },
      "source": [
        "!mkdir -p dataset/wavs\n",
        "!unzip -q ./ta_in_male.zip -d ./dataset/wavs"
      ],
      "execution_count": 0,
      "outputs": []
    },
    {
      "cell_type": "code",
      "metadata": {
        "id": "OtzO_Ph_ffpZ",
        "colab_type": "code",
        "colab": {}
      },
      "source": [
        "!wget https://raw.githubusercontent.com/subramaniannk/dc_tts/master/metadata.csv"
      ],
      "execution_count": 0,
      "outputs": []
    },
    {
      "cell_type": "code",
      "metadata": {
        "id": "sbx6wQOIiN3C",
        "colab_type": "code",
        "colab": {}
      },
      "source": [
        "mv ./metadata.csv ./dataset/"
      ],
      "execution_count": 0,
      "outputs": []
    }
  ]
}