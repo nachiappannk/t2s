{
  "nbformat": 4,
  "nbformat_minor": 0,
  "metadata": {
    "colab": {
      "name": "BuildTamilSourceData.ipynb",
      "provenance": [],
      "collapsed_sections": [],
      "authorship_tag": "ABX9TyM5kNa1djlkwQmEsj1a+rKv",
      "include_colab_link": true
    },
    "kernelspec": {
      "name": "python3",
      "display_name": "Python 3"
    }
  },
  "cells": [
    {
      "cell_type": "markdown",
      "metadata": {
        "id": "view-in-github",
        "colab_type": "text"
      },
      "source": [
        "<a href=\"https://colab.research.google.com/github/nachiappannk/t2s/blob/master/BuildTamilSourceData.ipynb\" target=\"_parent\"><img src=\"https://colab.research.google.com/assets/colab-badge.svg\" alt=\"Open In Colab\"/></a>"
      ]
    },
    {
      "cell_type": "code",
      "metadata": {
        "id": "y6FNSw48eiEq",
        "colab_type": "code",
        "colab": {
          "base_uri": "https://localhost:8080/",
          "height": 121
        },
        "outputId": "632392ac-f334-4f6d-e0a7-3e7127508b67"
      },
      "source": [
        "from google.colab import drive\n",
        "drive.mount('/content/drive')"
      ],
      "execution_count": 2,
      "outputs": [
        {
          "output_type": "stream",
          "text": [
            "Go to this URL in a browser: https://accounts.google.com/o/oauth2/auth?client_id=947318989803-6bn6qk8qdgf4n4g3pfee6491hc0brc4i.apps.googleusercontent.com&redirect_uri=urn%3aietf%3awg%3aoauth%3a2.0%3aoob&response_type=code&scope=email%20https%3a%2f%2fwww.googleapis.com%2fauth%2fdocs.test%20https%3a%2f%2fwww.googleapis.com%2fauth%2fdrive%20https%3a%2f%2fwww.googleapis.com%2fauth%2fdrive.photos.readonly%20https%3a%2f%2fwww.googleapis.com%2fauth%2fpeopleapi.readonly\n",
            "\n",
            "Enter your authorization code:\n",
            "··········\n",
            "Mounted at /content/drive\n"
          ],
          "name": "stdout"
        }
      ]
    },
    {
      "cell_type": "code",
      "metadata": {
        "id": "w6coD3vSeGlv",
        "colab_type": "code",
        "colab": {
          "base_uri": "https://localhost:8080/",
          "height": 67
        },
        "outputId": "47268b42-3895-439c-a4a2-d0f5a9e654ce"
      },
      "source": [
        "%cd /content/drive/My\\ Drive/\n",
        "!mkdir TamilDataSetSource\n",
        "%cd /content/drive/My\\ Drive/TamilDataSetSource"
      ],
      "execution_count": 11,
      "outputs": [
        {
          "output_type": "stream",
          "text": [
            "/content/drive/My Drive\n",
            "mkdir: cannot create directory ‘TamilDataSetSource’: File exists\n",
            "/content/drive/My Drive/TamilDataSetSource\n"
          ],
          "name": "stdout"
        }
      ]
    },
    {
      "cell_type": "code",
      "metadata": {
        "id": "qsDt5PstfUpR",
        "colab_type": "code",
        "colab": {
          "base_uri": "https://localhost:8080/",
          "height": 202
        },
        "outputId": "e2c80d9e-137a-401c-bc3a-206f6c8dcfe1"
      },
      "source": [
        "!wget http://www.openslr.org/resources/65/ta_in_male.zip"
      ],
      "execution_count": 13,
      "outputs": [
        {
          "output_type": "stream",
          "text": [
            "--2020-05-02 17:49:56--  http://www.openslr.org/resources/65/ta_in_male.zip\n",
            "Resolving www.openslr.org (www.openslr.org)... 46.101.158.64\n",
            "Connecting to www.openslr.org (www.openslr.org)|46.101.158.64|:80... connected.\n",
            "HTTP request sent, awaiting response... 200 OK\n",
            "Length: 603800641 (576M) [application/zip]\n",
            "Saving to: ‘ta_in_male.zip’\n",
            "\n",
            "ta_in_male.zip      100%[===================>] 575.83M  26.9MB/s    in 24s     \n",
            "\n",
            "2020-05-02 17:50:20 (24.3 MB/s) - ‘ta_in_male.zip’ saved [603800641/603800641]\n",
            "\n"
          ],
          "name": "stdout"
        }
      ]
    },
    {
      "cell_type": "code",
      "metadata": {
        "id": "MmSC1XV1ghpZ",
        "colab_type": "code",
        "colab": {}
      },
      "source": [
        "!mkdir -p dataset/wavs\n",
        "!unzip -q ./ta_in_male.zip -d ./dataset/wavs"
      ],
      "execution_count": 0,
      "outputs": []
    },
    {
      "cell_type": "code",
      "metadata": {
        "id": "OtzO_Ph_ffpZ",
        "colab_type": "code",
        "colab": {
          "base_uri": "https://localhost:8080/",
          "height": 202
        },
        "outputId": "1063f4a6-1ec0-43c5-a3e5-40360c0c9935"
      },
      "source": [
        "!wget https://raw.githubusercontent.com/subramaniannk/dc_tts/master/metadata.csv"
      ],
      "execution_count": 15,
      "outputs": [
        {
          "output_type": "stream",
          "text": [
            "--2020-05-02 17:55:50--  https://raw.githubusercontent.com/subramaniannk/dc_tts/master/metadata.csv\n",
            "Resolving raw.githubusercontent.com (raw.githubusercontent.com)... 151.101.0.133, 151.101.64.133, 151.101.128.133, ...\n",
            "Connecting to raw.githubusercontent.com (raw.githubusercontent.com)|151.101.0.133|:443... connected.\n",
            "HTTP request sent, awaiting response... 200 OK\n",
            "Length: 184285 (180K) [text/plain]\n",
            "Saving to: ‘metadata.csv’\n",
            "\n",
            "\rmetadata.csv          0%[                    ]       0  --.-KB/s               \rmetadata.csv        100%[===================>] 179.97K  --.-KB/s    in 0.04s   \n",
            "\n",
            "2020-05-02 17:55:50 (4.29 MB/s) - ‘metadata.csv’ saved [184285/184285]\n",
            "\n"
          ],
          "name": "stdout"
        }
      ]
    },
    {
      "cell_type": "code",
      "metadata": {
        "id": "sbx6wQOIiN3C",
        "colab_type": "code",
        "colab": {}
      },
      "source": [
        "mv ./metadata.csv ./dataset/"
      ],
      "execution_count": 0,
      "outputs": []
    }
  ]
}